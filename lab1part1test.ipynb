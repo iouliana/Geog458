{
"cells": [
{
"cell_type": "code",
"execution_count": 11,
"metadata": {
"collapsed": false
},
"outputs": [],
"source": [
"import os\n",
"import sys\n",
"sys.path.append('C:\\\\Program Files (x86)\\\\ArcGIS\\\\Desktop10.3\\\\bin')\n",
"sys.path.append('C:\\\\Program Files (x86)\\\\ArcGIS\\\\Desktop10.3\\\\arcpy')\n",
"sys.path.append('C:\\\\Program Files (x86)\\\\ArcGIS\\\\Desktop10.3\\\\ArcToolbox\\\\Scripts')\n",
"import arcpy\n",
"from arcpy import env\n",
"env.overwriteOutput = True\n",
"env.workspace = \"U:\\\\saep_bg10\"\n",
"\n",
"#Part1.\n",
"#\n",
"SearchCursor=arcpy.da.SearchCursor(\"WashingtonFIPS.dbf\",\"*\")\n",
"for row in SearchCursor: \n",
" SearchCursor2= arcpy.da.SearchCursor(\"saep_bg10.shp\",\"*\")\n",
" FIPSlist=[]\n",
" for row2 in SearchCursor2:\n",
" if row[2]==row2[3]:\n",
" FIPSlist.append(row2)\n",
" arcpy.CreateFeatureclass_management(\"U:\\\\saep_bg10\", row[1]+ \".shp\",\"POLYGON\",\"saep_bg10.shp\",\"\",\"\",\"saep_bg10.shp\",\"\",\"\",\"\",\"\") \n",
" del row2\n",
" del SearchCursor2\n",
" \n",
" \n",
" \n",
"del row\n",
"del SearchCursor\n",
" \n",
"\n"
]
},
{
"cell_type": "code",
"execution_count": null,
"metadata": {
"collapsed": true
},
"outputs": [],
"source": []
}
],
"metadata": {
"kernelspec": {
"display_name": "Python 2",
"language": "python",
"name": "python2"
},
"language_info": {
"codemirror_mode": {
"name": "ipython",
"version": 2
},
"file_extension": ".py",
"mimetype": "text/x-python",
"name": "python",
"nbconvert_exporter": "python",
"pygments_lexer": "ipython2",
"version": "2.7.10"
}
},
"nbformat": 4,
"nbformat_minor": 0
}
